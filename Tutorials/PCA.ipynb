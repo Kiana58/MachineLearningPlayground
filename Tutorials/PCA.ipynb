{
 "cells": [
  {
   "cell_type": "code",
   "execution_count": 1,
   "metadata": {},
   "outputs": [],
   "source": [
    "import csv\n",
    "import random\n",
    "import numpy as np\n",
    "import matplotlib.pyplot as plt\n",
    "from matplotlib.pyplot import cm\n",
    "\n",
    "from miniml.decomposition import *"
   ]
  },
  {
   "cell_type": "markdown",
   "metadata": {},
   "source": [
    "**dataset 1**"
   ]
  },
  {
   "cell_type": "code",
   "execution_count": 2,
   "metadata": {},
   "outputs": [],
   "source": [
    "x = np.array([[i, i, i+random.uniform(-0.5,0.5)] for i in np.arange(0, 10, 0.5)])\n",
    "pca = PCA(x)\n",
    "pca.fit(n_components=2)\n",
    "\n",
    "reduced_x = pca.transform(x)"
   ]
  },
  {
   "cell_type": "code",
   "execution_count": 3,
   "metadata": {},
   "outputs": [
    {
     "data": {
      "image/png": "[encoded data removed]",
      "text/plain": [
       "<Figure size 432x288 with 1 Axes>"
      ]
     },
     "metadata": {
      "needs_background": "light"
     },
     "output_type": "display_data"
    }
   ],
   "source": [
    "_ = plt.scatter(reduced_x[:,0], reduced_x[:,1])"
   ]
  },
  {
   "cell_type": "markdown",
   "metadata": {},
   "source": [
    "**dataset 2**"
   ]
  },
  {
   "cell_type": "code",
   "execution_count": 4,
   "metadata": {},
   "outputs": [],
   "source": [
    "data = []\n",
    "y = []\n",
    "with open('./datasets/digit-recognizer/train.csv', newline='') as csvfile:\n",
    "    spamreader = csv.reader(csvfile, delimiter=' ', quotechar='|')\n",
    "    for i, row in enumerate(spamreader):\n",
    "        if not i: continue\n",
    "        xy = row[0].split(',')\n",
    "        x, label = list(map(float, xy[1:])), int(xy[0])\n",
    "        data.append(x)\n",
    "        y.append(label)\n",
    "        if i == 100: break\n",
    "data = np.array(data)\n",
    "y = np.array(y)"
   ]
  },
  {
   "cell_type": "code",
   "execution_count": 5,
   "metadata": {},
   "outputs": [],
   "source": [
    "pca = PCA(data)\n",
    "pca.fit(n_components=2)\n",
    "\n",
    "reduced_data = np.real(pca.transform(data))"
   ]
  },
  {
   "cell_type": "code",
   "execution_count": 6,
   "metadata": {},
   "outputs": [
    {
     "data": {
      "image/png": "[encoded data removed]",
      "text/plain": [
       "<Figure size 432x288 with 1 Axes>"
      ]
     },
     "metadata": {
      "needs_background": "light"
     },
     "output_type": "display_data"
    }
   ],
   "source": [
    "class_n = len(np.unique(y))\n",
    "class_names = ['Class ' + str(int(c+1)) for c in range(class_n)]\n",
    "color = iter(cm.rainbow(np.linspace(0, 1, class_n)))\n",
    "for i in range(class_n):\n",
    "    _ = plt.scatter(reduced_data[y == i, 0],\n",
    "            reduced_data[y == i, 1],\n",
    "            color=next(color),\n",
    "            label=class_names[i])"
   ]
  }
 ],
 "metadata": {
  "kernelspec": {
   "display_name": "Python 3",
   "language": "python",
   "name": "python3"
  },
  "language_info": {
   "codemirror_mode": {
    "name": "ipython",
    "version": 3
   },
   "file_extension": ".py",
   "mimetype": "text/x-python",
   "name": "python",
   "nbconvert_exporter": "python",
   "pygments_lexer": "ipython3",
   "version": "3.7.10"
  }
 },
 "nbformat": 4,
 "nbformat_minor": 4
}
